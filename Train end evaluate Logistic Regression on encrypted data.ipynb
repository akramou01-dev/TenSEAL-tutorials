{
 "cells": [
  {
   "cell_type": "markdown",
   "id": "cf56a43e",
   "metadata": {},
   "source": [
    "# Training and Evaluating Logistic Regression Model on Encrypted data \n",
    "\n",
    "in this notebook we are going to use Homomorphic Encryption to encrypt data before giving it to the LR model for evaluation, and for this we are going to use the HR Lib TenSEAL "
   ]
  },
  {
   "cell_type": "code",
   "execution_count": null,
   "id": "2eed8921",
   "metadata": {},
   "outputs": [],
   "source": []
  }
 ],
 "metadata": {
  "kernelspec": {
   "display_name": "Python 3 (ipykernel)",
   "language": "python",
   "name": "python3"
  },
  "language_info": {
   "codemirror_mode": {
    "name": "ipython",
    "version": 3
   },
   "file_extension": ".py",
   "mimetype": "text/x-python",
   "name": "python",
   "nbconvert_exporter": "python",
   "pygments_lexer": "ipython3",
   "version": "3.8.8"
  }
 },
 "nbformat": 4,
 "nbformat_minor": 5
}
