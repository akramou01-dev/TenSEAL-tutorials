{
 "cells": [
  {
   "cell_type": "markdown",
   "id": "2edc9e16",
   "metadata": {},
   "source": [
    "# Training and Evaluating Logistic Regression Model on Encrypted data \n",
    "\n",
    "in this notebook we are going to use Homomorphic Encryption to encrypt data before giving it to the LR model for evaluation, and for this we are going to use the HE Lib TenSEAL "
   ]
  },
  {
   "cell_type": "code",
   "execution_count": 3,
   "id": "35d14e14",
   "metadata": {},
   "outputs": [],
   "source": [
    "import torch as th \n",
    "import tenseal as ts \n",
    "import numpy as np \n",
    "import matplotlib.pyplot as plt \n",
    "import pandas as pd \n",
    "import secrets\n",
    "import random"
   ]
  },
  {
   "cell_type": "markdown",
   "id": "b20173a8",
   "metadata": {},
   "source": [
    "we are going to use the **heart disease prediction** from kaggle."
   ]
  },
  {
   "cell_type": "code",
   "execution_count": 15,
   "id": "31f4a81e",
   "metadata": {},
   "outputs": [],
   "source": [
    "def split_train_test(x,y,test_ratio=0.3):\n",
    "    indx = [i for i in range(len(x))]\n",
    "    random.shuffle(indx)\n",
    "    test_size = int(len(x) * test_ratio) \n",
    "    test_indices, train_indices = indx[:test_size] ,indx[test_size:]\n",
    "    return x[train_indices], y[train_indices], x[test_indices],y[test_indices]"
   ]
  },
  {
   "cell_type": "code",
   "execution_count": 5,
   "id": "a9094c61",
   "metadata": {},
   "outputs": [
    {
     "data": {
      "text/plain": [
       "[7, 4, 1, 56, 3, 5, 6, 2]"
      ]
     },
     "execution_count": 5,
     "metadata": {},
     "output_type": "execute_result"
    }
   ],
   "source": [
    "x_train,y_train,x_test,y_test  = split_train_test()"
   ]
  },
  {
   "cell_type": "code",
   "execution_count": 12,
   "id": "422ae72e",
   "metadata": {},
   "outputs": [
    {
     "data": {
      "text/plain": [
       "38"
      ]
     },
     "execution_count": 12,
     "metadata": {},
     "output_type": "execute_result"
    }
   ],
   "source": [
    "int(128 * 0.3)"
   ]
  },
  {
   "cell_type": "code",
   "execution_count": 75,
   "id": "3373ed5b",
   "metadata": {},
   "outputs": [],
   "source": [
    "dataset = pd.read_csv(\"./data/framingham.csv\")\n",
    "# drop all the rows that contains nan values\n",
    "dataset = dataset.dropna()\n",
    "# drop some useless features\n",
    "dataset = dataset.drop([\"education\",\"currentSmoker\", \"BPMeds\", \"diabetes\", \"diaBP\", \"BMI\"],axis=1)\n",
    "#groupe the data by TenYearCHD \n",
    "grouped = dataset.groupby('TenYearCHD')\n",
    "dataset = grouped.apply(lambda x: x.sample(grouped.size().min(), random_state=73).reset_index(drop=True))\n",
    "y = th.tensor(dataset[\"TenYearCHD\"].values).float().unsqueeze(1)\n",
    "dataset = dataset.drop(\"TenYearCHD\",axis=1)\n",
    "dataset = (dataset - dataset.mean())/dataset.std()\n",
    "x = th.tensor(dataset.values).float()"
   ]
  },
  {
   "cell_type": "code",
   "execution_count": 76,
   "id": "cf9b4fb0",
   "metadata": {},
   "outputs": [],
   "source": [
    "x_train,y_train,x_test,y_test = split_train_test(x,y)"
   ]
  },
  {
   "cell_type": "code",
   "execution_count": 77,
   "id": "3882e099",
   "metadata": {},
   "outputs": [
    {
     "data": {
      "text/plain": [
       "torch.Size([780, 9])"
      ]
     },
     "execution_count": 77,
     "metadata": {},
     "output_type": "execute_result"
    }
   ],
   "source": [
    "x_train.shape"
   ]
  },
  {
   "cell_type": "markdown",
   "id": "5a009fdb",
   "metadata": {},
   "source": [
    "## Training the LogReg Model"
   ]
  },
  {
   "cell_type": "code",
   "execution_count": 89,
   "id": "91ed7e72",
   "metadata": {},
   "outputs": [],
   "source": [
    "class LogReg(th.nn.Module): \n",
    "    def __init__(self,n_feat):\n",
    "        super(LogReg,self).__init__()\n",
    "        self.linear = th.nn.Linear(n_feat,1)\n",
    "    def forward(self,x):\n",
    "        out = self.linear(x)\n",
    "        out = torch.sigmoid(out)\n",
    "        return out"
   ]
  },
  {
   "cell_type": "code",
   "execution_count": 113,
   "id": "dd546ea5",
   "metadata": {},
   "outputs": [],
   "source": [
    "n_features = x_train.shape[1]\n",
    "model = LogReg(n_features)\n",
    "optim = torch.optim.SGD(model.parameters(),lr=1)\n",
    "# use Binary Cross Entropy Loss\n",
    "criterion = torch.nn.BCELoss()"
   ]
  },
  {
   "cell_type": "code",
   "execution_count": 114,
   "id": "ce6a9e53",
   "metadata": {},
   "outputs": [],
   "source": [
    "def train (epochs,model,x_train,y_train,optim,metric):\n",
    "    for epoch in range(1,epochs+1) :\n",
    "        optim.zero_grad()\n",
    "        out = model(x_train)\n",
    "        loss = metric(out,y_train)\n",
    "        loss.backward()\n",
    "        optim.step()\n",
    "        print(f\"epoch : {epoch} loss : {loss}\")\n",
    "    return model"
   ]
  },
  {
   "cell_type": "code",
   "execution_count": 117,
   "id": "899f7708",
   "metadata": {
    "scrolled": true
   },
   "outputs": [
    {
     "name": "stdout",
     "output_type": "stream",
     "text": [
      "epoch : 1 loss : 0.5855586528778076\n",
      "epoch : 2 loss : 0.5855574607849121\n",
      "epoch : 3 loss : 0.5855565071105957\n",
      "epoch : 4 loss : 0.5855557322502136\n",
      "epoch : 5 loss : 0.5855551362037659\n",
      "epoch : 6 loss : 0.5855545401573181\n",
      "epoch : 7 loss : 0.5855540633201599\n",
      "epoch : 8 loss : 0.5855537056922913\n",
      "epoch : 9 loss : 0.5855533480644226\n",
      "epoch : 10 loss : 0.5855530500411987\n",
      "epoch : 11 loss : 0.5855528712272644\n",
      "epoch : 12 loss : 0.5855526328086853\n",
      "epoch : 13 loss : 0.585552453994751\n",
      "epoch : 14 loss : 0.5855523347854614\n",
      "epoch : 15 loss : 0.5855522155761719\n",
      "epoch : 16 loss : 0.5855521559715271\n",
      "epoch : 17 loss : 0.5855520367622375\n",
      "epoch : 18 loss : 0.5855519771575928\n",
      "epoch : 19 loss : 0.5855518579483032\n",
      "epoch : 20 loss : 0.5855517983436584\n",
      "epoch : 21 loss : 0.5855517983436584\n",
      "epoch : 22 loss : 0.5855516791343689\n",
      "epoch : 23 loss : 0.5855516195297241\n",
      "epoch : 24 loss : 0.5855516195297241\n",
      "epoch : 25 loss : 0.5855515599250793\n",
      "epoch : 26 loss : 0.5855515599250793\n",
      "epoch : 27 loss : 0.5855515599250793\n",
      "epoch : 28 loss : 0.5855515003204346\n",
      "epoch : 29 loss : 0.5855515599250793\n",
      "epoch : 30 loss : 0.5855515003204346\n",
      "epoch : 31 loss : 0.5855515003204346\n",
      "epoch : 32 loss : 0.5855514407157898\n",
      "epoch : 33 loss : 0.5855515003204346\n",
      "epoch : 34 loss : 0.5855514407157898\n",
      "epoch : 35 loss : 0.5855515003204346\n",
      "epoch : 36 loss : 0.5855514407157898\n",
      "epoch : 37 loss : 0.585551381111145\n",
      "epoch : 38 loss : 0.5855514407157898\n",
      "epoch : 39 loss : 0.585551381111145\n",
      "epoch : 40 loss : 0.5855514407157898\n",
      "epoch : 41 loss : 0.5855514407157898\n",
      "epoch : 42 loss : 0.5855514407157898\n",
      "epoch : 43 loss : 0.5855514407157898\n",
      "epoch : 44 loss : 0.5855514407157898\n",
      "epoch : 45 loss : 0.585551381111145\n",
      "epoch : 46 loss : 0.5855514407157898\n",
      "epoch : 47 loss : 0.5855514407157898\n",
      "epoch : 48 loss : 0.585551381111145\n",
      "epoch : 49 loss : 0.585551381111145\n",
      "epoch : 50 loss : 0.5855513215065002\n"
     ]
    }
   ],
   "source": [
    "model = train(50,model,x_train,y_train,optim,criterion)"
   ]
  },
  {
   "cell_type": "code",
   "execution_count": 183,
   "id": "04989815",
   "metadata": {},
   "outputs": [],
   "source": [
    "def accuracy(model,x_test,y_test): \n",
    "    out = model(x_test)\n",
    "    correct = torch.abs(y_test - out) < 0.5\n",
    "    return correct.float().mean()"
   ]
  },
  {
   "cell_type": "code",
   "execution_count": 219,
   "id": "d9bb1e05",
   "metadata": {},
   "outputs": [
    {
     "name": "stdout",
     "output_type": "stream",
     "text": [
      "the accuracy on plain data is : 0.6796407103538513\n"
     ]
    }
   ],
   "source": [
    "plain_accuracy = accuracy(model, x_test,y_test)\n",
    "print(f\"the accuracy on plain data is : {accuracy(model, x_test,y_test)}\")"
   ]
  },
  {
   "cell_type": "markdown",
   "id": "439c9b5f",
   "metadata": {},
   "source": [
    "## Encrypted Evaluation"
   ]
  },
  {
   "cell_type": "code",
   "execution_count": 260,
   "id": "b6eaa99f",
   "metadata": {},
   "outputs": [],
   "source": [
    "class HELogReg:\n",
    "    def __init__(self,torch_LogReg):\n",
    "        self.weight = torch_LogReg.weight.t().tolist()\n",
    "        self.bias = torch_LogReg.bias.t().tolist()\n",
    "    def forward(self,enc_x):\n",
    "        weight = np.array(self.weight).squeeze(1)\n",
    "        return enc_x.dot(weight) + self.bias\n",
    "\n",
    "    def __call__(self,*args,**keys): \n",
    "        return self.forward(*args,**keys)\n",
    "    "
   ]
  },
  {
   "cell_type": "code",
   "execution_count": 261,
   "id": "9ed6822b",
   "metadata": {},
   "outputs": [],
   "source": [
    "he_model = HELogReg(model.linear)"
   ]
  },
  {
   "cell_type": "code",
   "execution_count": null,
   "id": "ff172777",
   "metadata": {},
   "outputs": [],
   "source": []
  },
  {
   "cell_type": "markdown",
   "id": "541fd014",
   "metadata": {},
   "source": [
    "now we will create the context for the encryption"
   ]
  },
  {
   "cell_type": "code",
   "execution_count": 262,
   "id": "bb0817c7",
   "metadata": {},
   "outputs": [],
   "source": [
    "bit_scale = 20\n",
    "polynomial_modulus_degree = 8192\n",
    "coeff_mod_bit_sizes = [40,bit_scale,bit_scale,40]\n",
    "context = ts.context(ts.SCHEME_TYPE.CKKS,polynomial_modulus_degree, coeff_mod_bit_sizes  =coeff_mod_bit_sizes)\n",
    "context.global_scale = 2**bit_scale\n",
    "\n",
    "context.generate_galois_keys()"
   ]
  },
  {
   "cell_type": "code",
   "execution_count": 263,
   "id": "c19b0297",
   "metadata": {},
   "outputs": [],
   "source": [
    "#encrypting the test data \n",
    "enc_x_test = [ts.ckks_vector(context,x.tolist()) for x in x_test]\n"
   ]
  },
  {
   "cell_type": "markdown",
   "id": "56e65d21",
   "metadata": {},
   "source": [
    "We are not using the sigmoid fonction in the HE model for reducing the computation time, but we will use it in the evaluation process"
   ]
  },
  {
   "cell_type": "code",
   "execution_count": 272,
   "id": "b938111b",
   "metadata": {},
   "outputs": [],
   "source": [
    "def ecnryption_evaluation(model,enc_x_test,y_test): \n",
    "    start = time()\n",
    "    correct = 0\n",
    "    for enc_x , y in zip(enc_x_test,y_test):\n",
    "        enc_out = model(enc_x)\n",
    "        out = enc_out.decrypt()\n",
    "        out = torch.tensor(out)\n",
    "        out = torch.sigmoid(out)\n",
    "        if torch.abs(y -out) < 0.5 : \n",
    "            # correct value\n",
    "            correct +=1\n",
    "    end = time()\n",
    "    print(f\"The evaluation process of {len(enc_x_test)} entries took : {end- start} seconds.\")\n",
    "    print(f\"The accuracy of ecrypted data is : {correct/len(enc_x_test)}\")\n",
    "    return correct / len(enc_x_test)"
   ]
  },
  {
   "cell_type": "code",
   "execution_count": 273,
   "id": "ed75bdd8",
   "metadata": {},
   "outputs": [
    {
     "name": "stdout",
     "output_type": "stream",
     "text": [
      "The evaluation process of 334 entries took : 4.554850816726685 seconds.\n",
      "The accuracy of ecrypted data is : 0.5449101796407185\n",
      "Accuracy of the plain data is : 0.6796407103538513\n",
      "Accuracy on the encrypted data is : 0.5449101796407185\n"
     ]
    }
   ],
   "source": [
    "encrypted_acc = ecnryption_evaluation(he_model,enc_x_test,y_test)\n",
    "print(f\"Accuracy of the plain data is : {plain_accuracy}\")\n",
    "print(f\"Accuracy on the encrypted data is : {encrypted_acc}\")"
   ]
  },
  {
   "cell_type": "markdown",
   "id": "2cd9c1da",
   "metadata": {},
   "source": [
    "we saw that there not big diffrence between the accucracy on the plain test set and the encrypted one"
   ]
  },
  {
   "cell_type": "markdown",
   "id": "d495e621",
   "metadata": {},
   "source": [
    "## Training and Encrypted LogReg Model on Encrypted Data\n",
    "\n",
    "our encrypted model will do both forward encrypted data and backpropagate to update the weights, and thus train encrypted logistic regression on encrypted data\n",
    "\n",
    "in this section we are going to define all the stuf from scratch, updated the parameters, defines the loss fonction (cross entropy), doing an approximation for the sigmoid fonction and trainng the encrypted model on an encrypted data"
   ]
  },
  {
   "cell_type": "code",
   "execution_count": 414,
   "id": "8e3f447a",
   "metadata": {},
   "outputs": [],
   "source": [
    "class EncryptedLogReg:\n",
    "    def __init__(self,linear):\n",
    "        self.weight = linear.weight.data.tolist()[0]\n",
    "        self.bias = linear.bias.data.tolist()\n",
    "        # we need extra parameters for approving the gradient descnent and couting the itterations\n",
    "        # this parameters are calculated in the backward fonction for using them in the update_parameters fonctions\n",
    "        self._delta_weight = 0\n",
    "        self._delta_bias = 0\n",
    "        self._count = 0\n",
    "        # these params are the gradient accumulator \n",
    "    def forward(self,enc_x): \n",
    "        enc_out = enc_x.dot(self.weight) + self.bias \n",
    "        enc_out = EncryptedLogReg.sigmoid(enc_out)\n",
    "        return enc_out\n",
    "\n",
    "    def backward(self,enc_x,enc_out, enc_y):\n",
    "        out_minus_y = (enc_out - enc_y)\n",
    "        self._delta_weight += enc_x * out_minus_y \n",
    "        self._delta_bias += out_minus_y\n",
    "        self._count +=1 \n",
    "    def update_params(self): \n",
    "        if self._count ==0: \n",
    "            raise RuntimeError(\"You should at least run one forward iteration\")\n",
    "            \n",
    "        # update the weight and the bias using the gradient decent and the loss fonction of the cross entropy \n",
    "        # We use a small regularization term to keep the output\n",
    "        # of the linear layer in the range of the sigmoid approximation\n",
    "        \n",
    "        \n",
    "        #it's the formula for updating the parameters\n",
    "        self.weight -= self._delta_weight  * (1/self._count) + (self.weight* 0.005)\n",
    "        # the term : self.weight * 0.005 is for refularization\n",
    "        self.bias -= self._delta_bias * (1/self._count)\n",
    "        \n",
    "        #resetting the gradient accumulators\n",
    "        self._delta_bias = 0\n",
    "        self._delta_weight = 0\n",
    "        self._count = 0\n",
    "    \n",
    "    @staticmethod \n",
    "    def sigmoid(enc_x):\n",
    "        #we will use the polynomial approximation of degree 3 \n",
    "        #which we have seen in the paper https://eprint.iacr.org/2018/462.pdf\n",
    "        # sigmoid = 0.5 + 0.197*x -0.004x^3\n",
    "        #the sigmoid approximation range is [-5,5], so if the inputes are in that range , the approximation work very well\n",
    "        \n",
    "        \n",
    "        return enc_x.polyval([0.5,0.197,0,-0.004])\n",
    "        #.polyval() it's a fonction that we give the parameter of the polynom and it will calculate for us the polynome based on the tensor\n",
    "    \n",
    "    def plain_accuracy(self,x_test,y_test): \n",
    "        # we will calculate the accuracy of the plain data to compare it with the accuracy on encrypted data\n",
    "        weight = torch.tensor(self.weight) \n",
    "        bias   = torch.tensor(self.bias)\n",
    "        out = x_test.matmul(weight) + bias \n",
    "        out  = torch.sigmoid(out)\n",
    "        out = out.reshape(-1,1)\n",
    "        correct = torch.abs(y_test - out) < 0.5\n",
    "        return correct.float().mean()\n",
    "    \n",
    "    def encrypt(self,context):\n",
    "        self.weight = ts.ckks_vector(context,self.weight)\n",
    "        self.bias = ts.ckks_vector(context,self.bias)\n",
    "        \n",
    "    def decrypt(self): \n",
    "        self.weight = self.weight.decrypt()\n",
    "        self.bias = self.bias.decrypt()\n",
    "        \n",
    "    def __call__(self,*args,**keys): \n",
    "        return self.forward(*args,**keys)\n",
    "        \n",
    "        "
   ]
  },
  {
   "cell_type": "code",
   "execution_count": 314,
   "id": "2b252dce",
   "metadata": {},
   "outputs": [],
   "source": [
    "# now we will define the encryption parameters \n",
    "bit_scale = 40\n",
    "poly_mod_degree = 16384\n",
    "coeff_mod_bit_sizes = [50,bit_scale,bit_scale,bit_scale,bit_scale,bit_scale,bit_scale,50]\n",
    "train_context = ts.context(ts.SCHEME_TYPE.CKKS,poly_mod_degree,coeff_mod_bit_sizes = coeff_mod_bit_sizes)\n",
    "train_context.global_scale = 2**bit_scale\n",
    "\n",
    "train_context.generate_galois_keys()\n"
   ]
  },
  {
   "cell_type": "code",
   "execution_count": 315,
   "id": "37ec3d73",
   "metadata": {},
   "outputs": [
    {
     "name": "stdout",
     "output_type": "stream",
     "text": [
      "The operation of encryption took 65.48992538452148 seconds\n"
     ]
    }
   ],
   "source": [
    "start = time()\n",
    "enc_x_train = [ts.ckks_vector(train_context,x.tolist()) for x  in x_train]\n",
    "enc_y_train = [ts.ckks_vector(train_context,y.tolist())for y in y_train]\n",
    "end = time()\n",
    "\n",
    "print(f\"The operation of encryption took {end-start} seconds\")"
   ]
  },
  {
   "cell_type": "markdown",
   "id": "01ed0618",
   "metadata": {},
   "source": [
    "since our sigmoid approximation is only good in the range $[-5,5]$, we want to have all its inputs in that range. In order to do this, we need to keep our logistic regression parameters as small as possible, so we apply regularization."
   ]
  },
  {
   "cell_type": "code",
   "execution_count": 417,
   "id": "b06c2a45",
   "metadata": {},
   "outputs": [
    {
     "name": "stdout",
     "output_type": "stream",
     "text": [
      "0.030038105323910713 0.3268715441226959\n",
      "Distribution on plain data : \n"
     ]
    },
    {
     "data": {
      "image/png": "[encoded data removed]",
      "text/plain": [
       "<Figure size 432x288 with 1 Axes>"
      ]
     },
     "metadata": {
      "needs_background": "light"
     },
     "output_type": "display_data"
    },
    {
     "name": "stdout",
     "output_type": "stream",
     "text": [
      "Distribution of the encrypted data : \n"
     ]
    },
    {
     "data": {
      "image/png": "[encoded data removed]",
      "text/plain": [
       "<Figure size 432x288 with 1 Axes>"
      ]
     },
     "metadata": {
      "needs_background": "light"
     },
     "output_type": "display_data"
    }
   ],
   "source": [
    "normal_distribution  = lambda x , mean, varience : np.exp(-np.square((x-mean)/(2*var)) / np.sqrt(2 * np.pi * var))\n",
    "\n",
    "def plot_normal_dist(var,mean,rmin=-10,rmax=10): \n",
    "    x = np.arange(rmin,rmax,0.01)\n",
    "    y = normal_distribution(x,mean,var)\n",
    "    plt.plot(x,y)\n",
    "    \n",
    "\n",
    "#distribution on plain data\n",
    "model = LogReg(n_features)\n",
    "data = model.linear(x_test)\n",
    "mean,var = map(float,[data.mean(),data.std()**2])\n",
    "print(mean,var)\n",
    "plot_normal_dist(var,mean)\n",
    "print('Distribution on plain data : ')\n",
    "plt.show()\n",
    "\n",
    "#distribution on encrypted data \n",
    "enc_eval_log_reg = EncryptedLogReg(model.linear)\n",
    "#encrypting the weight and the bias \n",
    "enc_eval_log_reg.encrypt(train_context)\n",
    "\n",
    "weight = enc_eval_log_reg.weight\n",
    "bias = enc_eval_log_reg.bias\n",
    "data = []\n",
    "for enc_x in enc_x_train: \n",
    "    enc_out = enc_x.dot(weight) + bias\n",
    "    data.append(enc_out.decrypt())\n",
    "    \n",
    "data = torch.tensor(data)\n",
    "mean , var = map(float,[data.mean(),data.std()**2])\n",
    "plot_normal_dist(var,mean)\n",
    "print(\"Distribution of the encrypted data : \")\n",
    "plt.show()"
   ]
  },
  {
   "cell_type": "markdown",
   "id": "82e177bd",
   "metadata": {},
   "source": [
    "we see that the most of the data are in the range of [-5,5] so the approximation of the sigmoid will work fine \n",
    "\n",
    "Now it's time to train the model on encrypted data : \n",
    "        \n",
    "    and for that we will create the ecnrypted evaluation model and encrypt the weight and the bias \n",
    "    after that we will go into our encrypted data (enc_x_train & enc_y_test) and give each encrypted vector to the model using the forward() and the backward() fonctions to update the delta_weight and delta_bias\n",
    "    in the end of every epoch we will update the params and calculate the accuracy \n",
    "    \n",
    "    We can see that we decrypt the weights and re-encrypt them again after every epoch, this is necessary since after    updating the weights at the end of the epoch, we can no longer use them to perform enough multiplications, so we need to get them back to the initial ciphertext level. \n",
    "    \n",
    "    In a real scenario, this would translate to sending the weights back to the secret-key holder for decryption and re-encryption. In that case, it will result in just a few Kilobytes of communication per epoch. "
   ]
  },
  {
   "cell_type": "code",
   "execution_count": 422,
   "id": "91e318fa",
   "metadata": {},
   "outputs": [],
   "source": [
    "def encrypted_train(context,enc_model,enc_x_train,enc_y_train,x_test,y_test,epochs):\n",
    "    accuracy = enc_model.plain_accuracy(x_test,y_test)\n",
    "    print(f\"The accuracy in the epoch 0 : {accuracy}\")\n",
    "    times = []\n",
    "    for epoch in range(1,epochs+1): \n",
    "        print(f\"Epoch : {epoch} started\")\n",
    "        #encrypting the weight and the bias\n",
    "        enc_model.encrypt(context)\n",
    "        start_time = time()\n",
    "        for enc_x,enc_y in zip(enc_x_train,enc_y_train): \n",
    "            enc_out = enc_model.forward(enc_x)\n",
    "            enc_model.backward(enc_x,enc_out,enc_y)\n",
    "        #in the end of the tarining for each epoch, we update the params\n",
    "        enc_model.update_params()\n",
    "        end_time = time()\n",
    "        times.append(end_time - start_time)\n",
    "\n",
    "        #we will decrypt the weights \n",
    "        enc_model.decrypt()\n",
    "        accuracy = enc_model.plain_accuracy(x_test,y_test)\n",
    "        print(f\"Accuracy at epoch {epoch} is : {accuracy}\")\n",
    "        \n",
    "    return model,times,accuracy\n",
    "\n",
    "\n",
    "    "
   ]
  },
  {
   "cell_type": "code",
   "execution_count": 423,
   "id": "48bb2efc",
   "metadata": {},
   "outputs": [
    {
     "name": "stdout",
     "output_type": "stream",
     "text": [
      "The accuracy in the epoch 0 : 0.5329341292381287\n",
      "Epoch : 1 started\n",
      "[0.2743434872508937, 0.3919851277753926, 0.26577781108898924, 0.18104249822245477, -0.07827368080198978, 0.033732655210451074, -0.040768814274010336, 0.10627981645340301, 0.15409583564150137]\n",
      "Accuracy at epoch 1 is : 0.6257485151290894\n",
      "Epoch : 2 started\n",
      "[0.2638650444584193, 0.484294155819898, 0.2519811771501451, 0.1799487306394393, 0.05031786655143268, 0.09898348234881024, 0.10596657834571675, 0.10922168854950033, 0.19239415218460648]\n",
      "Accuracy at epoch 2 is : 0.667664647102356\n",
      "Epoch : 3 started\n",
      "[0.259662451138717, 0.536869103660764, 0.24809780290485292, 0.17716489671945124, 0.1252830573979135, 0.13830150808065977, 0.1941114514263676, 0.10290455187156458, 0.2140530369721437]\n",
      "Accuracy at epoch 3 is : 0.667664647102356\n",
      "Epoch : 4 started\n",
      "[0.2586526518994851, 0.5676534791690874, 0.24945128798624278, 0.173925311282206, 0.1699365571794293, 0.16315737609551306, 0.24948669476978869, 0.09326218022464601, 0.2277328457488124]\n",
      "Accuracy at epoch 4 is : 0.682634711265564\n",
      "Epoch : 5 started\n",
      "[0.25909515111685866, 0.5860268723225522, 0.2533520041637206, 0.17068363592001767, 0.19684535960982627, 0.1795502124225719, 0.28577215920399474, 0.08289070029418283, 0.2372474622904646]\n",
      "Accuracy at epoch 5 is : 0.682634711265564\n"
     ]
    }
   ],
   "source": [
    "encrypted_eval_model = EncryptedLogReg(LogReg(n_features).linear)\n",
    "EPOCHS = 5\n",
    "_,times,last_accuracy = encrypted_train(train_context,encrypted_eval_model,enc_x_train,enc_y_train,x_test,y_test,EPOCHS)"
   ]
  },
  {
   "cell_type": "markdown",
   "id": "d26cac72",
   "metadata": {},
   "source": [
    "We see that the accuracy on plain_text is increasing from epoch to another so we get a result after tarining the encrypted Model on encrypted Data"
   ]
  },
  {
   "cell_type": "code",
   "execution_count": 424,
   "id": "53d9bc54",
   "metadata": {},
   "outputs": [
    {
     "name": "stdout",
     "output_type": "stream",
     "text": [
      "The evaluation operation took : \n",
      "\t1028 seconds\n",
      "The average time per epoch is : \n",
      "\t205.6 seconds\n",
      "The last accuracy is : \n",
      "\t0.682634711265564\n",
      "The difference accuracy is : \n",
      "\t-0.0029940009117126465\n"
     ]
    }
   ],
   "source": [
    "print(f\"The evaluation operation took : \\n\\t{int(sum(times))} seconds\")\n",
    "print(f\"The average time per epoch is : \\n\\t{int(sum(times)) /len(times)} seconds\")\n",
    "print(f\"The last accuracy is : \\n\\t{last_accuracy}\")\n",
    "print(f\"The Accaccuracy on the plain text : {plain_accuracy})\n",
    "print(f\"The difference accuracy is : \\n\\t{plain_accuracy - last_accuracy }\")\n",
    "if (plain_accuracy - last_accuracy ) < 0 :\n",
    "    print(\"Wooow, We got better accuracy when training on encrypted data !\")"
   ]
  },
  {
   "cell_type": "markdown",
   "id": "375553cf",
   "metadata": {},
   "source": [
    "now we are going to train the same encrypted model on more epochs and see the evolution of the accuracy on the test set "
   ]
  },
  {
   "cell_type": "code",
   "execution_count": 425,
   "id": "8d3c4fce",
   "metadata": {},
   "outputs": [
    {
     "name": "stdout",
     "output_type": "stream",
     "text": [
      "The accuracy in the epoch 0 : 0.682634711265564\n",
      "Epoch : 1 started\n",
      "[0.26007704301940016, 0.5970840970462332, 0.2583154707032393, 0.16762159609024263, 0.21303398909044136, 0.19074457648346482, 0.31046554342378296, 0.07291962848978555, 0.24437927805554954]\n",
      "Accuracy at epoch 1 is : 0.6856287717819214\n",
      "Epoch : 2 started\n",
      "[0.26113917155911015, 0.6037230911984536, 0.2635359936367491, 0.16481320465339996, 0.22260036498004843, 0.19861392693325242, 0.3278767993096683, 0.06381794317297329, 0.25003150625224396]\n",
      "Accuracy at epoch 2 is : 0.6796407103538513\n",
      "Epoch : 3 started\n",
      "[0.26206759306652805, 0.6076535059972915, 0.268590113698291, 0.16228356374687686, 0.22801690644564152, 0.2042841123748781, 0.34058479490426635, 0.055743506481025856, 0.25469772014295416]\n",
      "Accuracy at epoch 3 is : 0.682634711265564\n",
      "Epoch : 4 started\n",
      "[0.2627797083388491, 0.6099104419009286, 0.2732710257900994, 0.1600331086776492, 0.23081184849607878, 0.2084573401163604, 0.35018067406110154, 0.04870409135676697, 0.2586657580648214]\n",
      "Accuracy at epoch 4 is : 0.682634711265564\n",
      "Epoch : 5 started\n",
      "[0.26326137246924636, 0.6111316426128128, 0.27749413893774677, 0.1580492084298876, 0.23194601417769758, 0.21158510526626562, 0.3576694005705716, 0.04263636221098978, 0.26211313371998035]\n",
      "Accuracy at epoch 5 is : 0.682634711265564\n",
      "Epoch : 6 started\n",
      "[0.26353180075633276, 0.6117144396414741, 0.2812426323583879, 0.1563124532024637, 0.2320307915231613, 0.21396544567348452, 0.36369769316467326, 0.03744642638953108, 0.2651548468534715]\n",
      "Accuracy at epoch 6 is : 0.682634711265564\n",
      "Epoch : 7 started\n",
      "[0.2636241972580842, 0.6119079789074584, 0.28453547263838597, 0.15480032260233256, 0.2314585263089977, 0.215799837513325, 0.36868850728830305, 0.03303099947740827, 0.26786882863977896]\n",
      "Accuracy at epoch 7 is : 0.682634711265564\n",
      "Epoch : 8 started\n",
      "[0.2635752436473389, 0.6118689366859277, 0.2874089995179679, 0.15348948210035598, 0.2304826185450769, 0.2172275618247425, 0.37292272479619837, 0.02928851783413082, 0.2703101366761632]\n",
      "Accuracy at epoch 8 is : 0.682634711265564\n",
      "Epoch : 9 started\n",
      "[0.26341976513162335, 0.6116957782566692, 0.2899063103614512, 0.15235709813702, 0.22926737508290915, 0.21834706260609563, 0.3765897953274352, 0.026124606292346836, 0.27251925524295006]\n",
      "Accuracy at epoch 9 is : 0.682634711265564\n",
      "Epoch : 10 started\n",
      "[0.26318833180886225, 0.6114501403306323, 0.29207138162659996, 0.15138167098822122, 0.22791965534536987, 0.21922942795578498, 0.379819679328277, 0.023454459802490946, 0.2745270599678255]\n",
      "Accuracy at epoch 10 is : 0.682634711265564\n",
      "Epoch : 11 started\n",
      "[0.26290640462190606, 0.6111702832555563, 0.29394597910623144, 0.1505434256961907, 0.22650895314716873, 0.21992701015232036, 0.38270317130171444, 0.02120349938421598, 0.2763579080923272]\n",
      "Accuracy at epoch 11 is : 0.682634711265564\n",
      "Epoch : 12 started\n",
      "[0.26259447143164416, 0.6108796109564315, 0.2955682054060542, 0.14982450756494584, 0.2250804153919299, 0.22047913614133174, 0.3853050223675942, 0.019307058031590885, 0.27803158179541065]\n",
      "Accuracy at epoch 12 is : 0.682634711265564\n",
      "Epoch : 13 started\n",
      "[0.2622684550671473, 0.6105920935818686, 0.29697197649254287, 0.1492089793352301, 0.22366316401486772, 0.22091585497231558, 0.38767244998901906, 0.017709692607262295, 0.27956457669540874]\n",
      "Accuracy at epoch 13 is : 0.682634711265564\n",
      "Epoch : 14 started\n",
      "[0.26194040758252546, 0.6103157403034738, 0.29818704130696894, 0.1486827637660425, 0.2222758005822258, 0.2212604348890848, 0.389840691492531, 0.016364176916249973, 0.28097089416393356]\n",
      "Accuracy at epoch 14 is : 0.682634711265564\n",
      "Epoch : 15 started\n",
      "[0.26161913344008914, 0.6100548008966178, 0.2992392528056777, 0.14823350277021638, 0.22092992562583386, 0.22153118249063014, 0.39183670186760533, 0.015230467989562402, 0.282262620557619]\n",
      "Accuracy at epoch 15 is : 0.682634711265564\n",
      "Epoch : 16 started\n",
      "[0.26131084567103346, 0.6098112112345577, 0.3001508951805768, 0.14785041772930468, 0.21963247695916144, 0.22174263050118892, 0.3936815961425313, 0.014274774744019392, 0.2834503489678599]\n",
      "Accuracy at epoch 16 is : 0.682634711265564\n",
      "Epoch : 17 started\n",
      "[0.261019694332138, 0.6095854457293471, 0.3009411708574781, 0.14752414441554845, 0.2183873310381064, 0.22190638545815547, 0.3953923045392915, 0.013468662970282791, 0.2845434300999567]\n",
      "Accuracy at epoch 17 is : 0.682634711265564\n",
      "Epoch : 18 started\n",
      "[0.260748235477277, 0.6093771525123174, 0.30162654695820323, 0.14724658331104504, 0.21719627714185855, 0.22203179619936347, 0.39698269143983855, 0.012788237506374561, 0.2855501873662795]\n",
      "Accuracy at epoch 18 is : 0.6796407103538513\n",
      "Epoch : 19 started\n",
      "[0.26049781626457746, 0.6091854785055307, 0.302221175750427, 0.14701071243446553, 0.2160597130661204, 0.22212643002086818, 0.3984643332193747, 0.012213465978563931, 0.2864780890585965]\n",
      "Accuracy at epoch 19 is : 0.6796407103538513\n",
      "Epoch : 20 started\n",
      "[0.2602689122515459, 0.6090093299457568, 0.30273720651768127, 0.14681050938563564, 0.21497714991088707, 0.22219642184230998, 0.3998470689165795, 0.011727530777551842, 0.28733382350258196]\n",
      "Accuracy at epoch 20 is : 0.6796407103538513\n"
     ]
    }
   ],
   "source": [
    "_,times,last_accuracy = encrypted_train(train_context,encrypted_eval_model,enc_x_train,enc_y_train,x_test,y_test,20)"
   ]
  },
  {
   "cell_type": "code",
   "execution_count": 427,
   "id": "d3f7da5a",
   "metadata": {},
   "outputs": [
    {
     "name": "stdout",
     "output_type": "stream",
     "text": [
      "The evaluation operation took : \n",
      "\t3759 seconds\n",
      "The average time per epoch is : \n",
      "\t187.95 seconds\n",
      "The last accuracy is : \n",
      "\t0.6796407103538513\n",
      "The Accaccuracy on the plain text : 0.6796407103538513\n",
      "The difference accuracy is : \n",
      "\t0.0\n"
     ]
    }
   ],
   "source": [
    "print(f\"The evaluation operation took : \\n\\t{int(sum(times))} seconds\")\n",
    "print(f\"The average time per epoch is : \\n\\t{int(sum(times)) /len(times)} seconds\")\n",
    "print(f\"The last accuracy is : \\n\\t{last_accuracy}\")\n",
    "print(f\"The Accaccuracy on the plain text : {plain_accuracy}\")\n",
    "print(f\"The difference accuracy is : \\n\\t{plain_accuracy - last_accuracy }\")\n",
    "if (plain_accuracy - last_accuracy ) < 0 :\n",
    "    print(\"Wooow, We got better accuracy when training on encrypted data !\")"
   ]
  },
  {
   "cell_type": "code",
   "execution_count": null,
   "id": "d81b1dec",
   "metadata": {},
   "outputs": [],
   "source": []
  }
 ],
 "metadata": {
  "kernelspec": {
   "display_name": "Python 3 (ipykernel)",
   "language": "python",
   "name": "python3"
  },
  "language_info": {
   "codemirror_mode": {
    "name": "ipython",
    "version": 3
   },
   "file_extension": ".py",
   "mimetype": "text/x-python",
   "name": "python",
   "nbconvert_exporter": "python",
   "pygments_lexer": "ipython3",
   "version": "3.8.8"
  }
 },
 "nbformat": 4,
 "nbformat_minor": 5
}
